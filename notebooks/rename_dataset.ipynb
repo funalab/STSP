{
 "cells": [
  {
   "cell_type": "code",
   "execution_count": 1,
   "metadata": {},
   "outputs": [],
   "source": [
    "import os\n",
    "from glob import glob\n",
    "import shutil"
   ]
  },
  {
   "cell_type": "markdown",
   "metadata": {},
   "source": [
    "# 遠藤さんデータセット"
   ]
  },
  {
   "cell_type": "code",
   "execution_count": 4,
   "metadata": {},
   "outputs": [],
   "source": [
    "# target = '/Users/tokkuman/thesis/Ikawa/精細管ステージング写真_遠藤_20211103/2_sample TE1142-3-1_x40 magnification/'\n",
    "# dist = '/Users/tokkuman/thesis/Ikawa/精細管ステージング写真_遠藤_20211103/2_sample TE1142-3-1_x40 magnification_rename/'\n",
    "target = '/Users/tokkuman/thesis/Ikawa/精細管ステージング写真_遠藤_20211103/3_sample TE2-1_x40 magnification/'\n",
    "dist = '/Users/tokkuman/thesis/Ikawa/精細管ステージング写真_遠藤_20211103/3_sample TE2-1_x40 magnification_rename/'\n",
    "os.makedirs(dist, exist_ok=True)\n",
    "\n",
    "stage = glob(os.path.join(target, 'stage*'))\n",
    "for s in stage:\n",
    "    os.makedirs(os.path.join(dist, os.path.basename(s)), exist_ok=True)\n",
    "    path_images = glob(os.path.join(s, '*.tif'))\n",
    "    for p in path_images:\n",
    "        filename = os.path.basename(p).replace(' RR', '-RR-3')\n",
    "        shutil.copy2(p, os.path.join(dist, os.path.basename(s), filename))\n",
    "        #print(p, os.path.join(dist, os.path.basename(s), filename))\n",
    "        "
   ]
  },
  {
   "cell_type": "markdown",
   "metadata": {},
   "source": [
    "# 平館さんデータセット (20220922)\n",
    "\n",
    "image name を `#1_1-1_No.1.tif` から `B6N_1_No.1_1-1.tif` に変更"
   ]
  },
  {
   "cell_type": "code",
   "execution_count": 5,
   "metadata": {},
   "outputs": [],
   "source": [
    "target = '/Users/tokkuman/thesis/Ikawa/精細管ステージング写真_hiradate_20220922/B6N/'\n",
    "dist = '/Users/tokkuman/git-tokkuman/seminiferous_tubule_stage_classification/datasets/images/'\n",
    "\n",
    "stage = glob(os.path.join(target, 'stage*'))\n",
    "for s in stage:\n",
    "    os.makedirs(os.path.join(dist, os.path.basename(s)), exist_ok=True)\n",
    "    path_images = glob(os.path.join(s, '*.tif'))\n",
    "    for p in path_images:\n",
    "        fn = os.path.basename(p)\n",
    "        sharp = fn[:2]\n",
    "        label = fn[fn.find('_')+1:fn.find('-')+2]\n",
    "        no = fn[fn.find('N'):fn.rfind('.')]\n",
    "        filename = f'B6N_{sharp}_{no}_{label}.tif'\n",
    "        shutil.copy2(p, os.path.join(dist, filename))\n",
    "        # print(p, os.path.join(dist, filename))\n"
   ]
  },
  {
   "cell_type": "code",
   "execution_count": 7,
   "metadata": {},
   "outputs": [],
   "source": [
    "target = '/Users/tokkuman/thesis/Ikawa/精細管ステージング写真_hiradate_20220922/BDF1/'\n",
    "dist = '/Users/tokkuman/git-tokkuman/seminiferous_tubule_stage_classification/datasets/images/'\n",
    "\n",
    "stage = glob(os.path.join(target, 'stage*'))\n",
    "for s in stage:\n",
    "    os.makedirs(os.path.join(dist, os.path.basename(s)), exist_ok=True)\n",
    "    path_images = glob(os.path.join(s, '*.tif'))\n",
    "    for p in path_images:\n",
    "        fn = os.path.basename(p)\n",
    "        sharp = fn[:2]\n",
    "        label = fn[fn.find('_')+1:fn.find('-')+2]\n",
    "        no = fn[fn.find('N'):fn.rfind('.')]\n",
    "        filename = f'BDF1_{sharp}_{no}_{label}.tif'\n",
    "        shutil.copy2(p, os.path.join(dist, filename))\n",
    "        # print(p, os.path.join(dist, filename))\n"
   ]
  }
 ],
 "metadata": {
  "kernelspec": {
   "display_name": "Python 3 (ipykernel)",
   "language": "python",
   "name": "python3"
  },
  "language_info": {
   "codemirror_mode": {
    "name": "ipython",
    "version": 3
   },
   "file_extension": ".py",
   "mimetype": "text/x-python",
   "name": "python",
   "nbconvert_exporter": "python",
   "pygments_lexer": "ipython3",
   "version": "3.8.3"
  }
 },
 "nbformat": 4,
 "nbformat_minor": 2
}
