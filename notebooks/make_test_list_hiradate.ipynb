{
 "cells": [
  {
   "cell_type": "code",
   "execution_count": 1,
   "metadata": {},
   "outputs": [],
   "source": [
    "import os\n",
    "import random\n",
    "from glob import glob\n",
    "import numpy as np\n",
    "\n",
    "np.random.seed(0)\n",
    "random.seed(0)"
   ]
  },
  {
   "cell_type": "code",
   "execution_count": 4,
   "metadata": {},
   "outputs": [],
   "source": [
    "path_img = glob('/Users/tokkuman/git-tokkuman/seminiferous_tubule_stage_classification/datasets/images/B6N*.tif')\n",
    "\n",
    "root = '/Users/tokkuman/git-tokkuman/seminiferous_tubule_stage_classification/datasets'\n",
    "with open(os.path.join(root, 'test_list_B6N.txt'), 'w') as f:\n",
    "    for p in path_img:\n",
    "        f.write('{}\\n'.format(os.path.basename(p)))\n"
   ]
  },
  {
   "cell_type": "code",
   "execution_count": 5,
   "metadata": {},
   "outputs": [],
   "source": [
    "path_img = glob('/Users/tokkuman/git-tokkuman/seminiferous_tubule_stage_classification/datasets/images/BDF1*.tif')\n",
    "\n",
    "root = '/Users/tokkuman/git-tokkuman/seminiferous_tubule_stage_classification/datasets'\n",
    "with open(os.path.join(root, 'test_list_BDF1.txt'), 'w') as f:\n",
    "    for p in path_img:\n",
    "        f.write('{}\\n'.format(os.path.basename(p)))\n"
   ]
  },
  {
   "cell_type": "code",
   "execution_count": 6,
   "metadata": {},
   "outputs": [],
   "source": [
    "path_img = glob('/Users/tokkuman/git-tokkuman/seminiferous_tubule_stage_classification/datasets/images/B*.tif')\n",
    "\n",
    "root = '/Users/tokkuman/git-tokkuman/seminiferous_tubule_stage_classification/datasets'\n",
    "with open(os.path.join(root, 'test_list_B6N_BDF1.txt'), 'w') as f:\n",
    "    for p in path_img:\n",
    "        f.write('{}\\n'.format(os.path.basename(p)))\n"
   ]
  }
 ],
 "metadata": {
  "kernelspec": {
   "display_name": "Python 3 (ipykernel)",
   "language": "python",
   "name": "python3"
  },
  "language_info": {
   "codemirror_mode": {
    "name": "ipython",
    "version": 3
   },
   "file_extension": ".py",
   "mimetype": "text/x-python",
   "name": "python",
   "nbconvert_exporter": "python",
   "pygments_lexer": "ipython3",
   "version": "3.8.3"
  }
 },
 "nbformat": 4,
 "nbformat_minor": 2
}
