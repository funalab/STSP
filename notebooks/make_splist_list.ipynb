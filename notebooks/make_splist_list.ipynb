{
 "cells": [
  {
   "cell_type": "code",
   "execution_count": 2,
   "metadata": {},
   "outputs": [],
   "source": [
    "import os\n",
    "import random\n",
    "from glob import glob\n",
    "import numpy as np\n",
    "\n",
    "np.random.seed(0)\n",
    "random.seed(0)"
   ]
  },
  {
   "cell_type": "code",
   "execution_count": 4,
   "metadata": {},
   "outputs": [
    {
     "name": "stdout",
     "output_type": "stream",
     "text": [
      "1 71\n",
      "2 54\n",
      "4 42\n",
      "5 47\n",
      "7 59\n",
      "8 52\n",
      "10 55\n",
      "12 65\n"
     ]
    }
   ],
   "source": [
    "path_img = glob('/Users/tokkuman/git-tokkuman/seminiferous_tubule_stage_classification/datasets/images/*.tif')\n",
    "with open('/Users/tokkuman/git-tokkuman/seminiferous_tubule_stage_classification/datasets/label_list.txt', 'r') as f:\n",
    "    label_list = [line.rstrip() for line in f]\n",
    "\n",
    "path_cls = {}\n",
    "for i in label_list:\n",
    "    path_cls[i] = []\n",
    "for p in path_img:\n",
    "    cls = os.path.basename(p)[os.path.basename(p).rfind('_')+1:os.path.basename(p).rfind('-')]\n",
    "    if cls in label_list:\n",
    "        path_cls[cls].append(p)\n",
    "\n",
    "for i in label_list:\n",
    "    print(i, len(path_cls[i]))\n",
    "    random.shuffle(path_cls[i])"
   ]
  },
  {
   "cell_type": "code",
   "execution_count": 5,
   "metadata": {},
   "outputs": [],
   "source": [
    "len_test = 10\n",
    "fold = 3\n",
    "root = '/Users/tokkuman/git-tokkuman/seminiferous_tubule_stage_classification/datasets'\n",
    "os.makedirs(os.path.join(root, 'split_list'), exist_ok=True)\n",
    "\n",
    "with open(os.path.join(root, 'split_list', 'test.txt'), 'w') as f:\n",
    "    for i in range(len_test):\n",
    "        for c in label_list:\n",
    "            f.write('{}\\n'.format(os.path.basename(path_cls[c][0])))\n",
    "            path_cls[c].pop(0)\n",
    "        \n",
    "for fd in range(0, fold):\n",
    "    dist = os.path.join(root, 'split_list', 'fold{}'.format(fd+1))\n",
    "    os.makedirs(dist, exist_ok=True)\n",
    "    with open(os.path.join(dist, 'train.txt'), 'w') as f:\n",
    "        for c in label_list:\n",
    "            for pa in path_cls[c][:int(len(path_cls[c])/fold)*fd] + path_cls[c][int(len(path_cls[c])/fold)*(fd+1):]:\n",
    "                f.write('{}\\n'.format(os.path.basename(pa)))\n",
    "\n",
    "    with open(os.path.join(dist, 'validation.txt'), 'w') as f:\n",
    "        for c in label_list:\n",
    "            for pa in path_cls[c][int(len(path_cls[c])/fold)*fd:int(len(path_cls[c])/fold)*(fd+1)]:\n",
    "                f.write('{}\\n'.format(os.path.basename(pa)))"
   ]
  }
 ],
 "metadata": {
  "kernelspec": {
   "display_name": "Python 3",
   "language": "python",
   "name": "python3"
  },
  "language_info": {
   "codemirror_mode": {
    "name": "ipython",
    "version": 3
   },
   "file_extension": ".py",
   "mimetype": "text/x-python",
   "name": "python",
   "nbconvert_exporter": "python",
   "pygments_lexer": "ipython3",
   "version": "3.6.3"
  }
 },
 "nbformat": 4,
 "nbformat_minor": 2
}
