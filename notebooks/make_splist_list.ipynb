{
 "cells": [
  {
   "cell_type": "code",
   "execution_count": 1,
   "metadata": {},
   "outputs": [],
   "source": [
    "import os\n",
    "import random\n",
    "from glob import glob\n",
    "import numpy as np\n",
    "\n",
    "np.random.seed(0)\n",
    "random.seed(0)"
   ]
  },
  {
   "cell_type": "code",
   "execution_count": 2,
   "metadata": {},
   "outputs": [
    {
     "name": "stdout",
     "output_type": "stream",
     "text": [
      "1 101\n",
      "2 104\n",
      "3 101\n",
      "4 102\n",
      "5 104\n",
      "6 105\n",
      "7 102\n",
      "8 101\n",
      "9 103\n",
      "10 103\n",
      "11 101\n",
      "12 102\n",
      "total: 1229\n"
     ]
    }
   ],
   "source": [
    "path_img = glob('/Users/tokkuman/git-tokkuman/seminiferous_tubule_stage_classification/datasets/images/*.tif')\n",
    "with open('/Users/tokkuman/git-tokkuman/seminiferous_tubule_stage_classification/datasets/label_list.txt', 'r') as f:\n",
    "    label_list = [line.rstrip() for line in f]\n",
    "\n",
    "path_cls = {}\n",
    "for i in label_list:\n",
    "    path_cls[i] = []\n",
    "for p in path_img:\n",
    "    cls = os.path.basename(p)[os.path.basename(p).rfind('_')+1:os.path.basename(p).rfind('-')]\n",
    "    if cls in label_list:\n",
    "        path_cls[cls].append(p)\n",
    "\n",
    "total = 0\n",
    "for i in label_list:\n",
    "    print(i, len(path_cls[i]))\n",
    "    random.shuffle(path_cls[i])\n",
    "    total += len(path_cls[i])\n",
    "print('total: {}'.format(total))"
   ]
  },
  {
   "cell_type": "code",
   "execution_count": 3,
   "metadata": {},
   "outputs": [
    {
     "name": "stdout",
     "output_type": "stream",
     "text": [
      "total (train+validation): 989\n"
     ]
    }
   ],
   "source": [
    "len_test = 20\n",
    "fold = 4\n",
    "root = '/Users/tokkuman/git-tokkuman/seminiferous_tubule_stage_classification/datasets'\n",
    "os.makedirs(os.path.join(root, 'split_list'), exist_ok=True)\n",
    "\n",
    "with open(os.path.join(root, 'split_list', 'test.txt'), 'w') as f:\n",
    "    for i in range(len_test):\n",
    "        for c in label_list:\n",
    "            f.write('{}\\n'.format(os.path.basename(path_cls[c][0])))\n",
    "            path_cls[c].pop(0)\n",
    "       \n",
    "total = 0\n",
    "for i in label_list:\n",
    "    total += len(path_cls[i])\n",
    "print('total (train+validation): {}'.format(total))        \n",
    "\n",
    "for fd in range(0, fold):\n",
    "    dist = os.path.join(root, 'split_list', 'fold{}'.format(fd+1))\n",
    "    os.makedirs(dist, exist_ok=True)\n",
    "    with open(os.path.join(dist, 'train.txt'), 'w') as f:\n",
    "        for c in label_list:\n",
    "            #print(len(path_cls[c][:int(len(path_cls[c])/fold)*fd] + path_cls[c][int(len(path_cls[c])/fold)*(fd+1):]))\n",
    "            for pa in path_cls[c][:int(len(path_cls[c])/fold)*fd] + path_cls[c][int(len(path_cls[c])/fold)*(fd+1):]:\n",
    "                f.write('{}\\n'.format(os.path.basename(pa)))\n",
    "\n",
    "    with open(os.path.join(dist, 'validation.txt'), 'w') as f:\n",
    "        for c in label_list:\n",
    "            for pa in path_cls[c][int(len(path_cls[c])/fold)*fd:int(len(path_cls[c])/fold)*(fd+1)]:\n",
    "                f.write('{}\\n'.format(os.path.basename(pa)))"
   ]
  },
  {
   "cell_type": "code",
   "execution_count": 4,
   "metadata": {},
   "outputs": [
    {
     "name": "stdout",
     "output_type": "stream",
     "text": [
      "989\n",
      "989\n",
      "989\n",
      "989\n",
      "972\n"
     ]
    }
   ],
   "source": [
    "# trainとvalidationの被りなしを確認\n",
    "for fd in range(0, fold):\n",
    "    target = os.path.join(root, 'split_list', 'fold{}'.format(fd+1))\n",
    "    with open(os.path.join(target, 'train.txt'), 'r') as f:\n",
    "        filelist_train = [line.rstrip() for line in f]\n",
    "    with open(os.path.join(target, 'validation.txt'), 'r') as f:\n",
    "        filelist_validatioin = [line.rstrip() for line in f]\n",
    "    print(len(np.unique(filelist_train + filelist_validatioin)))\n",
    "    \n",
    "filelist_validatioin_total = []\n",
    "for fd in range(0, fold):\n",
    "    target = os.path.join(root, 'split_list', 'fold{}'.format(fd+1))\n",
    "    with open(os.path.join(target, 'validation.txt'), 'r') as f:\n",
    "        filelist_validatioin = [line.rstrip() for line in f]\n",
    "    filelist_validatioin_total += filelist_validatioin\n",
    "print(len(np.unique(filelist_validatioin_total)))"
   ]
  }
 ],
 "metadata": {
  "kernelspec": {
   "display_name": "Python 3",
   "language": "python",
   "name": "python3"
  },
  "language_info": {
   "codemirror_mode": {
    "name": "ipython",
    "version": 3
   },
   "file_extension": ".py",
   "mimetype": "text/x-python",
   "name": "python",
   "nbconvert_exporter": "python",
   "pygments_lexer": "ipython3",
   "version": "3.6.3"
  }
 },
 "nbformat": 4,
 "nbformat_minor": 2
}
